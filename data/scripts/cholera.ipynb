{
 "cells": [
  {
   "cell_type": "code",
   "execution_count": 1,
   "id": "8ee6b371-b887-499d-ba62-29cd32715e33",
   "metadata": {},
   "outputs": [],
   "source": [
    "import pandas as pd\n",
    "import numpy as np\n",
    "from pathlib import Path\n",
    "import os"
   ]
  },
  {
   "cell_type": "code",
   "execution_count": 2,
   "id": "cbad5262-2bf4-4f4d-be0a-34579d0c6953",
   "metadata": {},
   "outputs": [
    {
     "name": "stdout",
     "output_type": "stream",
     "text": [
      "True\n",
      "✅ Dataset loaded successfully!\n",
      "Number of rows: 34\n",
      "Number of columns: 7\n",
      "\n",
      "📋 Column names:\n",
      "['adm0_name', 'who_region', 'iso_3_code', 'first_epiwk', 'last_epiwk', 'case_total', 'death_total']\n"
     ]
    }
   ],
   "source": [
    "# Get the current working directory (where your notebook is running)\n",
    "NOTEBOOK_DIR = Path(os.getcwd())\n",
    "\n",
    "# Navigate to your dataset subfolder\n",
    "DATA_DIR = NOTEBOOK_DIR.parent /\"raw\" / \"Disease_and_Mobidity_data\"\n",
    "\n",
    "FILE_NAME = \"cholera_adm0_public.csv\"\n",
    "FILE_PATH = DATA_DIR / FILE_NAME\n",
    "\n",
    "#print(\"Looking for file at:\", FILE_PATH)\n",
    "\n",
    "print(DATA_DIR.exists())   # Should be True\n",
    "\n",
    "# Load dataset\n",
    "df = pd.read_csv(FILE_PATH)\n",
    "\n",
    "# === 1. Check basic info ===\n",
    "print(\"✅ Dataset loaded successfully!\")\n",
    "print(f\"Number of rows: {df.shape[0]}\")\n",
    "print(f\"Number of columns: {df.shape[1]}\")\n",
    "print(\"\\n📋 Column names:\")\n",
    "print(df.columns.tolist())"
   ]
  },
  {
   "cell_type": "code",
   "execution_count": 3,
   "id": "5501bb1c-80b9-4d6e-b7d3-083ef60b3b16",
   "metadata": {},
   "outputs": [
    {
     "data": {
      "text/html": [
       "<div>\n",
       "<style scoped>\n",
       "    .dataframe tbody tr th:only-of-type {\n",
       "        vertical-align: middle;\n",
       "    }\n",
       "\n",
       "    .dataframe tbody tr th {\n",
       "        vertical-align: top;\n",
       "    }\n",
       "\n",
       "    .dataframe thead th {\n",
       "        text-align: right;\n",
       "    }\n",
       "</style>\n",
       "<table border=\"1\" class=\"dataframe\">\n",
       "  <thead>\n",
       "    <tr style=\"text-align: right;\">\n",
       "      <th></th>\n",
       "      <th>adm0_name</th>\n",
       "      <th>who_region</th>\n",
       "      <th>iso_3_code</th>\n",
       "      <th>first_epiwk</th>\n",
       "      <th>last_epiwk</th>\n",
       "      <th>case_total</th>\n",
       "      <th>death_total</th>\n",
       "    </tr>\n",
       "  </thead>\n",
       "  <tbody>\n",
       "    <tr>\n",
       "      <th>0</th>\n",
       "      <td>AFGHANISTAN</td>\n",
       "      <td>Eastern Mediterranean Region</td>\n",
       "      <td>AFG</td>\n",
       "      <td>2024-12-30</td>\n",
       "      <td>2025-09-15</td>\n",
       "      <td>129325</td>\n",
       "      <td>64</td>\n",
       "    </tr>\n",
       "    <tr>\n",
       "      <th>1</th>\n",
       "      <td>ANGOLA</td>\n",
       "      <td>African Region</td>\n",
       "      <td>AGO</td>\n",
       "      <td>2025-01-06</td>\n",
       "      <td>2025-09-15</td>\n",
       "      <td>28773</td>\n",
       "      <td>799</td>\n",
       "    </tr>\n",
       "    <tr>\n",
       "      <th>2</th>\n",
       "      <td>BANGLADESH</td>\n",
       "      <td>South-East Asia Region</td>\n",
       "      <td>BGD</td>\n",
       "      <td>2024-12-30</td>\n",
       "      <td>2025-09-01</td>\n",
       "      <td>67</td>\n",
       "      <td>0</td>\n",
       "    </tr>\n",
       "    <tr>\n",
       "      <th>3</th>\n",
       "      <td>BURUNDI</td>\n",
       "      <td>African Region</td>\n",
       "      <td>BDI</td>\n",
       "      <td>2024-12-30</td>\n",
       "      <td>2025-09-15</td>\n",
       "      <td>1108</td>\n",
       "      <td>6</td>\n",
       "    </tr>\n",
       "    <tr>\n",
       "      <th>4</th>\n",
       "      <td>CHAD</td>\n",
       "      <td>African Region</td>\n",
       "      <td>TCD</td>\n",
       "      <td>2025-07-07</td>\n",
       "      <td>2025-09-15</td>\n",
       "      <td>2321</td>\n",
       "      <td>139</td>\n",
       "    </tr>\n",
       "  </tbody>\n",
       "</table>\n",
       "</div>"
      ],
      "text/plain": [
       "     adm0_name                    who_region iso_3_code first_epiwk  \\\n",
       "0  AFGHANISTAN  Eastern Mediterranean Region        AFG  2024-12-30   \n",
       "1       ANGOLA                African Region        AGO  2025-01-06   \n",
       "2   BANGLADESH        South-East Asia Region        BGD  2024-12-30   \n",
       "3      BURUNDI                African Region        BDI  2024-12-30   \n",
       "4         CHAD                African Region        TCD  2025-07-07   \n",
       "\n",
       "   last_epiwk  case_total  death_total  \n",
       "0  2025-09-15      129325           64  \n",
       "1  2025-09-15       28773          799  \n",
       "2  2025-09-01          67            0  \n",
       "3  2025-09-15        1108            6  \n",
       "4  2025-09-15        2321          139  "
      ]
     },
     "metadata": {},
     "output_type": "display_data"
    }
   ],
   "source": [
    "display(df.head())"
   ]
  },
  {
   "cell_type": "code",
   "execution_count": 4,
   "id": "7af62e3e-7000-4efc-b579-9725ca70ff5e",
   "metadata": {},
   "outputs": [
    {
     "name": "stdout",
     "output_type": "stream",
     "text": [
      "✅ Columns renamed successfully:\n",
      "['country_name', 'region', 'country_code', 'first_epiwk', 'last_epiwk', 'case_total', 'death_total']\n"
     ]
    },
    {
     "data": {
      "text/html": [
       "<div>\n",
       "<style scoped>\n",
       "    .dataframe tbody tr th:only-of-type {\n",
       "        vertical-align: middle;\n",
       "    }\n",
       "\n",
       "    .dataframe tbody tr th {\n",
       "        vertical-align: top;\n",
       "    }\n",
       "\n",
       "    .dataframe thead th {\n",
       "        text-align: right;\n",
       "    }\n",
       "</style>\n",
       "<table border=\"1\" class=\"dataframe\">\n",
       "  <thead>\n",
       "    <tr style=\"text-align: right;\">\n",
       "      <th></th>\n",
       "      <th>country_name</th>\n",
       "      <th>region</th>\n",
       "      <th>country_code</th>\n",
       "      <th>first_epiwk</th>\n",
       "      <th>last_epiwk</th>\n",
       "      <th>case_total</th>\n",
       "      <th>death_total</th>\n",
       "    </tr>\n",
       "  </thead>\n",
       "  <tbody>\n",
       "    <tr>\n",
       "      <th>0</th>\n",
       "      <td>AFGHANISTAN</td>\n",
       "      <td>Eastern Mediterranean Region</td>\n",
       "      <td>AFG</td>\n",
       "      <td>2024-12-30</td>\n",
       "      <td>2025-09-15</td>\n",
       "      <td>129325</td>\n",
       "      <td>64</td>\n",
       "    </tr>\n",
       "    <tr>\n",
       "      <th>1</th>\n",
       "      <td>ANGOLA</td>\n",
       "      <td>African Region</td>\n",
       "      <td>AGO</td>\n",
       "      <td>2025-01-06</td>\n",
       "      <td>2025-09-15</td>\n",
       "      <td>28773</td>\n",
       "      <td>799</td>\n",
       "    </tr>\n",
       "    <tr>\n",
       "      <th>2</th>\n",
       "      <td>BANGLADESH</td>\n",
       "      <td>South-East Asia Region</td>\n",
       "      <td>BGD</td>\n",
       "      <td>2024-12-30</td>\n",
       "      <td>2025-09-01</td>\n",
       "      <td>67</td>\n",
       "      <td>0</td>\n",
       "    </tr>\n",
       "    <tr>\n",
       "      <th>3</th>\n",
       "      <td>BURUNDI</td>\n",
       "      <td>African Region</td>\n",
       "      <td>BDI</td>\n",
       "      <td>2024-12-30</td>\n",
       "      <td>2025-09-15</td>\n",
       "      <td>1108</td>\n",
       "      <td>6</td>\n",
       "    </tr>\n",
       "    <tr>\n",
       "      <th>4</th>\n",
       "      <td>CHAD</td>\n",
       "      <td>African Region</td>\n",
       "      <td>TCD</td>\n",
       "      <td>2025-07-07</td>\n",
       "      <td>2025-09-15</td>\n",
       "      <td>2321</td>\n",
       "      <td>139</td>\n",
       "    </tr>\n",
       "  </tbody>\n",
       "</table>\n",
       "</div>"
      ],
      "text/plain": [
       "  country_name                        region country_code first_epiwk  \\\n",
       "0  AFGHANISTAN  Eastern Mediterranean Region          AFG  2024-12-30   \n",
       "1       ANGOLA                African Region          AGO  2025-01-06   \n",
       "2   BANGLADESH        South-East Asia Region          BGD  2024-12-30   \n",
       "3      BURUNDI                African Region          BDI  2024-12-30   \n",
       "4         CHAD                African Region          TCD  2025-07-07   \n",
       "\n",
       "   last_epiwk  case_total  death_total  \n",
       "0  2025-09-15      129325           64  \n",
       "1  2025-09-15       28773          799  \n",
       "2  2025-09-01          67            0  \n",
       "3  2025-09-15        1108            6  \n",
       "4  2025-09-15        2321          139  "
      ]
     },
     "metadata": {},
     "output_type": "display_data"
    }
   ],
   "source": [
    "# Rename columns (matching lowercase names)\n",
    "# 🧹 Rename columns to clear, Python-friendly names\n",
    "df.columns = [\n",
    "    \"country_name\", \"region\", \"country_code\", \"first_epiwk\",\n",
    "    \"last_epiwk\", \"case_total\", \"death_total\"\n",
    "]\n",
    "\n",
    "# ✅ Verify the rename\n",
    "print(\"✅ Columns renamed successfully:\")\n",
    "print(df.columns.tolist())\n",
    "\n",
    "# Optional — quick look at first few rows\n",
    "display(df.head())"
   ]
  },
  {
   "cell_type": "code",
   "execution_count": 5,
   "id": "44984c22-a0ce-4fe0-bce5-44d042bdc457",
   "metadata": {},
   "outputs": [
    {
     "name": "stdout",
     "output_type": "stream",
     "text": [
      "Distinct countries found: 34\n",
      "  country_code country_name\n",
      "0          AFG  AFGHANISTAN\n",
      "1          AGO       ANGOLA\n",
      "2          BGD   BANGLADESH\n",
      "3          BDI      BURUNDI\n",
      "4          TCD         CHAD\n"
     ]
    }
   ],
   "source": [
    "# ---Check distinct countries by code and name ---\n",
    "unique_countries = df[['country_code', 'country_name']].drop_duplicates()\n",
    "print(f\"Distinct countries found: {len(unique_countries)}\")\n",
    "print(unique_countries.head())"
   ]
  },
  {
   "cell_type": "code",
   "execution_count": 6,
   "id": "59fb0abe-d5ae-48b7-82cc-6d25e0a2ffad",
   "metadata": {},
   "outputs": [
    {
     "data": {
      "text/plain": [
       "country_name    object\n",
       "region          object\n",
       "country_code    object\n",
       "first_epiwk     object\n",
       "last_epiwk      object\n",
       "case_total       int64\n",
       "death_total      int64\n",
       "dtype: object"
      ]
     },
     "execution_count": 6,
     "metadata": {},
     "output_type": "execute_result"
    }
   ],
   "source": [
    "df.dtypes"
   ]
  },
  {
   "cell_type": "code",
   "execution_count": 7,
   "id": "b642c2b9-6bb2-43a5-97ac-3dbd1bcbe41a",
   "metadata": {},
   "outputs": [
    {
     "name": "stdout",
     "output_type": "stream",
     "text": [
      "country_name            object\n",
      "region                  object\n",
      "country_code            object\n",
      "first_epiwk     datetime64[ns]\n",
      "last_epiwk      datetime64[ns]\n",
      "case_total               int64\n",
      "death_total              int64\n",
      "dtype: object\n"
     ]
    }
   ],
   "source": [
    "# Convert 'first_epiwk' and 'last_epiwk' to datetime\n",
    "df['first_epiwk'] = pd.to_datetime(df['first_epiwk'], errors='coerce')\n",
    "df['last_epiwk'] = pd.to_datetime(df['last_epiwk'], errors='coerce')\n",
    "\n",
    "# Verify conversion\n",
    "print(df.dtypes)"
   ]
  },
  {
   "cell_type": "code",
   "execution_count": 8,
   "id": "06b5cb17-f84e-4e3b-821d-a1ca6700465a",
   "metadata": {},
   "outputs": [
    {
     "data": {
      "text/html": [
       "<div>\n",
       "<style scoped>\n",
       "    .dataframe tbody tr th:only-of-type {\n",
       "        vertical-align: middle;\n",
       "    }\n",
       "\n",
       "    .dataframe tbody tr th {\n",
       "        vertical-align: top;\n",
       "    }\n",
       "\n",
       "    .dataframe thead th {\n",
       "        text-align: right;\n",
       "    }\n",
       "</style>\n",
       "<table border=\"1\" class=\"dataframe\">\n",
       "  <thead>\n",
       "    <tr style=\"text-align: right;\">\n",
       "      <th></th>\n",
       "      <th>country_name</th>\n",
       "      <th>region</th>\n",
       "      <th>country_code</th>\n",
       "      <th>first_epiwk</th>\n",
       "      <th>last_epiwk</th>\n",
       "      <th>case_total</th>\n",
       "      <th>death_total</th>\n",
       "    </tr>\n",
       "  </thead>\n",
       "  <tbody>\n",
       "    <tr>\n",
       "      <th>0</th>\n",
       "      <td>AFGHANISTAN</td>\n",
       "      <td>Eastern Mediterranean Region</td>\n",
       "      <td>AFG</td>\n",
       "      <td>2024-12-30</td>\n",
       "      <td>2025-09-15</td>\n",
       "      <td>129325</td>\n",
       "      <td>64</td>\n",
       "    </tr>\n",
       "    <tr>\n",
       "      <th>1</th>\n",
       "      <td>ANGOLA</td>\n",
       "      <td>African Region</td>\n",
       "      <td>AGO</td>\n",
       "      <td>2025-01-06</td>\n",
       "      <td>2025-09-15</td>\n",
       "      <td>28773</td>\n",
       "      <td>799</td>\n",
       "    </tr>\n",
       "    <tr>\n",
       "      <th>2</th>\n",
       "      <td>BANGLADESH</td>\n",
       "      <td>South-East Asia Region</td>\n",
       "      <td>BGD</td>\n",
       "      <td>2024-12-30</td>\n",
       "      <td>2025-09-01</td>\n",
       "      <td>67</td>\n",
       "      <td>0</td>\n",
       "    </tr>\n",
       "    <tr>\n",
       "      <th>3</th>\n",
       "      <td>BURUNDI</td>\n",
       "      <td>African Region</td>\n",
       "      <td>BDI</td>\n",
       "      <td>2024-12-30</td>\n",
       "      <td>2025-09-15</td>\n",
       "      <td>1108</td>\n",
       "      <td>6</td>\n",
       "    </tr>\n",
       "    <tr>\n",
       "      <th>4</th>\n",
       "      <td>CHAD</td>\n",
       "      <td>African Region</td>\n",
       "      <td>TCD</td>\n",
       "      <td>2025-07-07</td>\n",
       "      <td>2025-09-15</td>\n",
       "      <td>2321</td>\n",
       "      <td>139</td>\n",
       "    </tr>\n",
       "  </tbody>\n",
       "</table>\n",
       "</div>"
      ],
      "text/plain": [
       "  country_name                        region country_code first_epiwk  \\\n",
       "0  AFGHANISTAN  Eastern Mediterranean Region          AFG  2024-12-30   \n",
       "1       ANGOLA                African Region          AGO  2025-01-06   \n",
       "2   BANGLADESH        South-East Asia Region          BGD  2024-12-30   \n",
       "3      BURUNDI                African Region          BDI  2024-12-30   \n",
       "4         CHAD                African Region          TCD  2025-07-07   \n",
       "\n",
       "  last_epiwk  case_total  death_total  \n",
       "0 2025-09-15      129325           64  \n",
       "1 2025-09-15       28773          799  \n",
       "2 2025-09-01          67            0  \n",
       "3 2025-09-15        1108            6  \n",
       "4 2025-09-15        2321          139  "
      ]
     },
     "metadata": {},
     "output_type": "display_data"
    }
   ],
   "source": [
    "display(df.head())"
   ]
  },
  {
   "cell_type": "code",
   "execution_count": 9,
   "id": "5819c836-e7d4-4082-a980-f178987eef1e",
   "metadata": {},
   "outputs": [
    {
     "data": {
      "text/plain": [
       "['country_name',\n",
       " 'region',\n",
       " 'country_code',\n",
       " 'first_epiwk',\n",
       " 'last_epiwk',\n",
       " 'case_total',\n",
       " 'death_total']"
      ]
     },
     "execution_count": 9,
     "metadata": {},
     "output_type": "execute_result"
    }
   ],
   "source": [
    "df.columns.tolist()"
   ]
  },
  {
   "cell_type": "code",
   "execution_count": 10,
   "id": "62f40b00-1da8-4142-adbf-067a54059c36",
   "metadata": {},
   "outputs": [],
   "source": [
    "df.columns = df.columns.str.strip()"
   ]
  },
  {
   "cell_type": "code",
   "execution_count": 11,
   "id": "d80bbb99-3ea3-4f17-b9ed-7679ae858adc",
   "metadata": {},
   "outputs": [
    {
     "data": {
      "text/plain": [
       "['country_name',\n",
       " 'region',\n",
       " 'country_code',\n",
       " 'first_epiwk',\n",
       " 'last_epiwk',\n",
       " 'case_total',\n",
       " 'death_total']"
      ]
     },
     "execution_count": 11,
     "metadata": {},
     "output_type": "execute_result"
    }
   ],
   "source": [
    "df.columns.tolist()"
   ]
  },
  {
   "cell_type": "code",
   "execution_count": 12,
   "id": "d87a5a13-88df-4ff0-b013-3572ca3af687",
   "metadata": {},
   "outputs": [],
   "source": [
    "for col in df.select_dtypes(include='object').columns:\n",
    "    has_spaces = df[col].str.contains(r'^\\s|\\s$', na=False).any()\n",
    "    if has_spaces:\n",
    "        print(f\"Column '{col}' has leading or trailing spaces.\")\n"
   ]
  },
  {
   "cell_type": "code",
   "execution_count": 15,
   "id": "7f341d11-4fa1-4d5d-b9e8-ac3a8c72f76d",
   "metadata": {},
   "outputs": [
    {
     "name": "stdout",
     "output_type": "stream",
     "text": [
      "Filtered data saved to: C:\\Users\\USER\\Desktop\\WORK\\RenewedCare\\data\\processed\\cholera_adm0_public.csv\n",
      "Number of rows left: 34\n"
     ]
    }
   ],
   "source": [
    "# Define output file path\n",
    "output_path = NOTEBOOK_DIR.parent / \"processed\" / \"cholera_adm0_public.csv\"\n",
    "\n",
    "# Save to CSV\n",
    "df.to_csv(output_path, index=False)\n",
    "\n",
    "print(f\"Filtered data saved to: {output_path}\")\n",
    "print(f\"Number of rows left: {len(df)}\")\n"
   ]
  },
  {
   "cell_type": "code",
   "execution_count": null,
   "id": "f12a6660-a24a-443e-bab6-6a005c6526c9",
   "metadata": {},
   "outputs": [],
   "source": []
  }
 ],
 "metadata": {
  "kernelspec": {
   "display_name": "Python 3 (ipykernel)",
   "language": "python",
   "name": "python3"
  },
  "language_info": {
   "codemirror_mode": {
    "name": "ipython",
    "version": 3
   },
   "file_extension": ".py",
   "mimetype": "text/x-python",
   "name": "python",
   "nbconvert_exporter": "python",
   "pygments_lexer": "ipython3",
   "version": "3.12.4"
  }
 },
 "nbformat": 4,
 "nbformat_minor": 5
}
