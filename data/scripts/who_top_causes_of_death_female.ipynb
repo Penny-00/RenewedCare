{
 "cells": [
  {
   "cell_type": "code",
   "execution_count": 1,
   "id": "0bc7218d-264b-4029-9064-35adc1c7ee26",
   "metadata": {},
   "outputs": [],
   "source": [
    "import pandas as pd\n",
    "import numpy as np\n",
    "from pathlib import Path\n",
    "import os"
   ]
  },
  {
   "cell_type": "code",
   "execution_count": 2,
   "id": "e048e089-e3f5-49be-9f4e-93233166f522",
   "metadata": {},
   "outputs": [
    {
     "name": "stdout",
     "output_type": "stream",
     "text": [
      "Looking for file at: C:\\Users\\USER\\Desktop\\WORK\\RenewedCare\\data\\raw\\Disease_and_Mobidity_data\\WHO_TOP_CAUSES_OF_DEATH_FEMALE.csv\n"
     ]
    }
   ],
   "source": [
    "# Get the current working directory (where your notebook is running)\n",
    "NOTEBOOK_DIR = Path(os.getcwd())\n",
    "\n",
    "# Navigate to your dataset subfolder\n",
    "DATA_DIR = NOTEBOOK_DIR.parent /\"raw\" / \"Disease_and_Mobidity_data\"\n",
    "\n",
    "FILE_NAME = \"WHO_TOP_CAUSES_OF_DEATH_FEMALE.csv\"\n",
    "FILE_PATH = DATA_DIR / FILE_NAME\n",
    "\n",
    "print(\"Looking for file at:\", FILE_PATH)"
   ]
  },
  {
   "cell_type": "code",
   "execution_count": 3,
   "id": "d1186fa9-3440-4350-8642-4924e07154f0",
   "metadata": {},
   "outputs": [
    {
     "name": "stdout",
     "output_type": "stream",
     "text": [
      "True\n"
     ]
    }
   ],
   "source": [
    "print(DATA_DIR.exists())   # Should be True"
   ]
  },
  {
   "cell_type": "code",
   "execution_count": 4,
   "id": "8f3f7a61-0c57-4e05-81aa-9a1b18aebe2b",
   "metadata": {},
   "outputs": [
    {
     "name": "stdout",
     "output_type": "stream",
     "text": [
      "✅ Dataset loaded successfully!\n",
      "Number of rows: 24522\n",
      "Number of columns: 5\n",
      "\n",
      "📋 Column names:\n",
      "['DIM_COUNTRY_CODE', 'DIM_YEAR_CODE', 'DIM_GHECAUSE_TITLE', 'DIM_SEX_CODE', 'VAL_DTHS_RATE100K_NUMERIC']\n"
     ]
    }
   ],
   "source": [
    "# Load dataset\n",
    "df = pd.read_csv(FILE_PATH)\n",
    "\n",
    "# === 1. Check basic info ===\n",
    "print(\"✅ Dataset loaded successfully!\")\n",
    "print(f\"Number of rows: {df.shape[0]}\")\n",
    "print(f\"Number of columns: {df.shape[1]}\")\n",
    "print(\"\\n📋 Column names:\")\n",
    "print(df.columns.tolist())"
   ]
  },
  {
   "cell_type": "code",
   "execution_count": 5,
   "id": "9ea07c97-621f-4172-9b4a-a4224a34bc33",
   "metadata": {},
   "outputs": [
    {
     "name": "stdout",
     "output_type": "stream",
     "text": [
      "\n",
      "🔍 Missing values summary:\n",
      "Empty DataFrame\n",
      "Columns: [Missing Values, Percentage (%)]\n",
      "Index: []\n",
      "\n",
      "📊 Quick numeric summary:\n"
     ]
    },
    {
     "data": {
      "text/html": [
       "<div>\n",
       "<style scoped>\n",
       "    .dataframe tbody tr th:only-of-type {\n",
       "        vertical-align: middle;\n",
       "    }\n",
       "\n",
       "    .dataframe tbody tr th {\n",
       "        vertical-align: top;\n",
       "    }\n",
       "\n",
       "    .dataframe thead th {\n",
       "        text-align: right;\n",
       "    }\n",
       "</style>\n",
       "<table border=\"1\" class=\"dataframe\">\n",
       "  <thead>\n",
       "    <tr style=\"text-align: right;\">\n",
       "      <th></th>\n",
       "      <th>DIM_YEAR_CODE</th>\n",
       "      <th>VAL_DTHS_RATE100K_NUMERIC</th>\n",
       "    </tr>\n",
       "  </thead>\n",
       "  <tbody>\n",
       "    <tr>\n",
       "      <th>count</th>\n",
       "      <td>24522.0</td>\n",
       "      <td>24522.000000</td>\n",
       "    </tr>\n",
       "    <tr>\n",
       "      <th>mean</th>\n",
       "      <td>2021.0</td>\n",
       "      <td>5.479543</td>\n",
       "    </tr>\n",
       "    <tr>\n",
       "      <th>std</th>\n",
       "      <td>0.0</td>\n",
       "      <td>22.383233</td>\n",
       "    </tr>\n",
       "    <tr>\n",
       "      <th>min</th>\n",
       "      <td>2021.0</td>\n",
       "      <td>0.000000</td>\n",
       "    </tr>\n",
       "    <tr>\n",
       "      <th>25%</th>\n",
       "      <td>2021.0</td>\n",
       "      <td>0.000000</td>\n",
       "    </tr>\n",
       "    <tr>\n",
       "      <th>50%</th>\n",
       "      <td>2021.0</td>\n",
       "      <td>0.170000</td>\n",
       "    </tr>\n",
       "    <tr>\n",
       "      <th>75%</th>\n",
       "      <td>2021.0</td>\n",
       "      <td>2.390000</td>\n",
       "    </tr>\n",
       "    <tr>\n",
       "      <th>max</th>\n",
       "      <td>2021.0</td>\n",
       "      <td>720.900000</td>\n",
       "    </tr>\n",
       "  </tbody>\n",
       "</table>\n",
       "</div>"
      ],
      "text/plain": [
       "       DIM_YEAR_CODE  VAL_DTHS_RATE100K_NUMERIC\n",
       "count        24522.0               24522.000000\n",
       "mean          2021.0                   5.479543\n",
       "std              0.0                  22.383233\n",
       "min           2021.0                   0.000000\n",
       "25%           2021.0                   0.000000\n",
       "50%           2021.0                   0.170000\n",
       "75%           2021.0                   2.390000\n",
       "max           2021.0                 720.900000"
      ]
     },
     "metadata": {},
     "output_type": "display_data"
    }
   ],
   "source": [
    "# === 2. Check for missing values ===\n",
    "print(\"\\n🔍 Missing values summary:\")\n",
    "missing_summary = df.isnull().sum().sort_values(ascending=False)\n",
    "missing_percent = (df.isnull().mean() * 100).sort_values(ascending=False)\n",
    "\n",
    "# Combine both into a single DataFrame for clarity\n",
    "missing_report = pd.DataFrame({\n",
    "    'Missing Values': missing_summary,\n",
    "    'Percentage (%)': missing_percent.round(2)\n",
    "})\n",
    "\n",
    "# Show only columns with missing values\n",
    "print(missing_report[missing_report['Missing Values'] > 0])\n",
    "\n",
    "# === 3. (Optional) Show quick stats for numeric columns ===\n",
    "print(\"\\n📊 Quick numeric summary:\")\n",
    "display(df.describe())"
   ]
  },
  {
   "cell_type": "code",
   "execution_count": 7,
   "id": "d2d04c9d-dfe2-4a3b-8e3d-f839aeaf3255",
   "metadata": {},
   "outputs": [
    {
     "name": "stdout",
     "output_type": "stream",
     "text": [
      "['country_code', 'year', 'diseases', 'sex', 'death_rate']\n"
     ]
    }
   ],
   "source": [
    "# Rename columns (matching lowercase names)\n",
    "df = df.rename(columns={\n",
    "    \"DIM_GHECAUSE_TITLE\": \"diseases\",\n",
    "    \"DIM_COUNTRY_CODE\": \"country_code\",\n",
    "    \"DIM_YEAR_CODE\": \"year\",\n",
    "    \"DIM_SEX_CODE\": \"sex\",\n",
    "    \"VAL_DTHS_RATE100K_NUMERIC\": \"death_rate\"\n",
    "})\n",
    "\n",
    "# Verify the rename\n",
    "print(df.columns.tolist())\n"
   ]
  },
  {
   "cell_type": "code",
   "execution_count": 17,
   "id": "72c4a5a4-9124-46ab-bccf-beb1d72356df",
   "metadata": {},
   "outputs": [],
   "source": [
    "df[\"diseases\"] = df[\"diseases\"].str.strip().str.lower()\n",
    "df[\"country_code\"] = df[\"country_code\"].str.strip().str.lower()\n",
    "df[\"sex\"] = df[\"sex\"].str.strip().str.low()"
   ]
  },
  {
   "cell_type": "code",
   "execution_count": 23,
   "id": "19f33669-bfe1-4032-8614-9613b833f692",
   "metadata": {},
   "outputs": [
    {
     "name": "stdout",
     "output_type": "stream",
     "text": [
      "int64\n"
     ]
    }
   ],
   "source": [
    "print(df[\"year\"].dtype)\n"
   ]
  },
  {
   "cell_type": "code",
   "execution_count": 18,
   "id": "20178568-fc14-4080-b4ed-82a21991ef80",
   "metadata": {},
   "outputs": [
    {
     "name": "stdout",
     "output_type": "stream",
     "text": [
      "Diseases and countries they appear in:\n"
     ]
    },
    {
     "data": {
      "text/html": [
       "<div>\n",
       "<style scoped>\n",
       "    .dataframe tbody tr th:only-of-type {\n",
       "        vertical-align: middle;\n",
       "    }\n",
       "\n",
       "    .dataframe tbody tr th {\n",
       "        vertical-align: top;\n",
       "    }\n",
       "\n",
       "    .dataframe thead th {\n",
       "        text-align: right;\n",
       "    }\n",
       "</style>\n",
       "<table border=\"1\" class=\"dataframe\">\n",
       "  <thead>\n",
       "    <tr style=\"text-align: right;\">\n",
       "      <th></th>\n",
       "      <th>diseases</th>\n",
       "      <th>country_code</th>\n",
       "      <th>Count</th>\n",
       "    </tr>\n",
       "  </thead>\n",
       "  <tbody>\n",
       "    <tr>\n",
       "      <th>0</th>\n",
       "      <td>acute hepatitis a</td>\n",
       "      <td>afg</td>\n",
       "      <td>1</td>\n",
       "    </tr>\n",
       "    <tr>\n",
       "      <th>1</th>\n",
       "      <td>acute hepatitis a</td>\n",
       "      <td>ago</td>\n",
       "      <td>1</td>\n",
       "    </tr>\n",
       "    <tr>\n",
       "      <th>2</th>\n",
       "      <td>acute hepatitis a</td>\n",
       "      <td>alb</td>\n",
       "      <td>1</td>\n",
       "    </tr>\n",
       "    <tr>\n",
       "      <th>3</th>\n",
       "      <td>acute hepatitis a</td>\n",
       "      <td>are</td>\n",
       "      <td>1</td>\n",
       "    </tr>\n",
       "    <tr>\n",
       "      <th>4</th>\n",
       "      <td>acute hepatitis a</td>\n",
       "      <td>arg</td>\n",
       "      <td>1</td>\n",
       "    </tr>\n",
       "    <tr>\n",
       "      <th>...</th>\n",
       "      <td>...</td>\n",
       "      <td>...</td>\n",
       "      <td>...</td>\n",
       "    </tr>\n",
       "    <tr>\n",
       "      <th>2008</th>\n",
       "      <td>tuberculosis</td>\n",
       "      <td>wsm</td>\n",
       "      <td>1</td>\n",
       "    </tr>\n",
       "    <tr>\n",
       "      <th>2009</th>\n",
       "      <td>tuberculosis</td>\n",
       "      <td>yem</td>\n",
       "      <td>1</td>\n",
       "    </tr>\n",
       "    <tr>\n",
       "      <th>2010</th>\n",
       "      <td>tuberculosis</td>\n",
       "      <td>zaf</td>\n",
       "      <td>1</td>\n",
       "    </tr>\n",
       "    <tr>\n",
       "      <th>2011</th>\n",
       "      <td>tuberculosis</td>\n",
       "      <td>zmb</td>\n",
       "      <td>1</td>\n",
       "    </tr>\n",
       "    <tr>\n",
       "      <th>2012</th>\n",
       "      <td>tuberculosis</td>\n",
       "      <td>zwe</td>\n",
       "      <td>1</td>\n",
       "    </tr>\n",
       "  </tbody>\n",
       "</table>\n",
       "<p>2013 rows × 3 columns</p>\n",
       "</div>"
      ],
      "text/plain": [
       "               diseases country_code  Count\n",
       "0     acute hepatitis a          afg      1\n",
       "1     acute hepatitis a          ago      1\n",
       "2     acute hepatitis a          alb      1\n",
       "3     acute hepatitis a          are      1\n",
       "4     acute hepatitis a          arg      1\n",
       "...                 ...          ...    ...\n",
       "2008       tuberculosis          wsm      1\n",
       "2009       tuberculosis          yem      1\n",
       "2010       tuberculosis          zaf      1\n",
       "2011       tuberculosis          zmb      1\n",
       "2012       tuberculosis          zwe      1\n",
       "\n",
       "[2013 rows x 3 columns]"
      ]
     },
     "metadata": {},
     "output_type": "display_data"
    }
   ],
   "source": [
    "# List of diseases to look for\n",
    "target_diseases = [\n",
    "    \"malaria\", \"tuberculosis\", \"cholera\", \"chlamydia\", \"gonorrhea\",\n",
    "    \"syphilis\", \"trichomoniasis\", \"public lice\", \"crabs\", \"scabies\",\n",
    "    \"mycoplasma genitalium\", \"hiv\", \"herpes\", \"human papillomavirus\",\n",
    "    \"hpv\", \"hepatitis\", \"mpox\"\n",
    "]\n",
    "\n",
    "# Create a mask to check if any disease name appears in the GHECAUSE title\n",
    "mask = df['diseases'].apply(\n",
    "    lambda x: any(disease in x for disease in target_diseases)\n",
    ")\n",
    "\n",
    "# Filter the dataset\n",
    "disease_df = df[mask].copy()\n",
    "\n",
    "# Group by disease and country\n",
    "result = (\n",
    "    disease_df.groupby(['diseases', 'country_code'])\n",
    "    .size()\n",
    "    .reset_index(name='Count')\n",
    "    .sort_values(by=['diseases', 'Count'], ascending=[True, False])\n",
    ")\n",
    "\n",
    "# Show result\n",
    "print(\"Diseases and countries they appear in:\")\n",
    "display(result)"
   ]
  },
  {
   "cell_type": "code",
   "execution_count": 19,
   "id": "36aba9ce-5e58-44ca-b2d8-72b014c6609c",
   "metadata": {},
   "outputs": [
    {
     "name": "stdout",
     "output_type": "stream",
     "text": [
      "✅ Distinct country counts per disease:\n"
     ]
    },
    {
     "data": {
      "text/html": [
       "<div>\n",
       "<style scoped>\n",
       "    .dataframe tbody tr th:only-of-type {\n",
       "        vertical-align: middle;\n",
       "    }\n",
       "\n",
       "    .dataframe tbody tr th {\n",
       "        vertical-align: top;\n",
       "    }\n",
       "\n",
       "    .dataframe thead th {\n",
       "        text-align: right;\n",
       "    }\n",
       "</style>\n",
       "<table border=\"1\" class=\"dataframe\">\n",
       "  <thead>\n",
       "    <tr style=\"text-align: right;\">\n",
       "      <th></th>\n",
       "      <th>Disease</th>\n",
       "      <th>Distinct Countries</th>\n",
       "      <th>Country List</th>\n",
       "    </tr>\n",
       "  </thead>\n",
       "  <tbody>\n",
       "    <tr>\n",
       "      <th>0</th>\n",
       "      <td>malaria</td>\n",
       "      <td>183</td>\n",
       "      <td>[afg, ago, alb, are, arg, arm, atg, aus, aut, ...</td>\n",
       "    </tr>\n",
       "    <tr>\n",
       "      <th>11</th>\n",
       "      <td>hiv</td>\n",
       "      <td>183</td>\n",
       "      <td>[afg, ago, alb, are, arg, arm, atg, aus, aut, ...</td>\n",
       "    </tr>\n",
       "    <tr>\n",
       "      <th>15</th>\n",
       "      <td>hepatitis</td>\n",
       "      <td>183</td>\n",
       "      <td>[afg, ago, alb, are, arg, arm, atg, aus, aut, ...</td>\n",
       "    </tr>\n",
       "    <tr>\n",
       "      <th>3</th>\n",
       "      <td>chlamydia</td>\n",
       "      <td>183</td>\n",
       "      <td>[afg, ago, alb, are, arg, arm, atg, aus, aut, ...</td>\n",
       "    </tr>\n",
       "    <tr>\n",
       "      <th>5</th>\n",
       "      <td>syphilis</td>\n",
       "      <td>183</td>\n",
       "      <td>[afg, ago, alb, are, arg, arm, atg, aus, aut, ...</td>\n",
       "    </tr>\n",
       "    <tr>\n",
       "      <th>6</th>\n",
       "      <td>trichomoniasis</td>\n",
       "      <td>183</td>\n",
       "      <td>[afg, ago, alb, are, arg, arm, atg, aus, aut, ...</td>\n",
       "    </tr>\n",
       "    <tr>\n",
       "      <th>1</th>\n",
       "      <td>tuberculosis</td>\n",
       "      <td>183</td>\n",
       "      <td>[afg, ago, alb, are, arg, arm, atg, aus, aut, ...</td>\n",
       "    </tr>\n",
       "    <tr>\n",
       "      <th>12</th>\n",
       "      <td>herpes</td>\n",
       "      <td>183</td>\n",
       "      <td>[afg, ago, alb, are, arg, arm, atg, aus, aut, ...</td>\n",
       "    </tr>\n",
       "    <tr>\n",
       "      <th>14</th>\n",
       "      <td>hpv</td>\n",
       "      <td>0</td>\n",
       "      <td>[]</td>\n",
       "    </tr>\n",
       "    <tr>\n",
       "      <th>13</th>\n",
       "      <td>human papillomavirus</td>\n",
       "      <td>0</td>\n",
       "      <td>[]</td>\n",
       "    </tr>\n",
       "    <tr>\n",
       "      <th>8</th>\n",
       "      <td>crabs</td>\n",
       "      <td>0</td>\n",
       "      <td>[]</td>\n",
       "    </tr>\n",
       "    <tr>\n",
       "      <th>10</th>\n",
       "      <td>mycoplasma genitalium</td>\n",
       "      <td>0</td>\n",
       "      <td>[]</td>\n",
       "    </tr>\n",
       "    <tr>\n",
       "      <th>9</th>\n",
       "      <td>scabies</td>\n",
       "      <td>0</td>\n",
       "      <td>[]</td>\n",
       "    </tr>\n",
       "    <tr>\n",
       "      <th>7</th>\n",
       "      <td>public lice</td>\n",
       "      <td>0</td>\n",
       "      <td>[]</td>\n",
       "    </tr>\n",
       "    <tr>\n",
       "      <th>4</th>\n",
       "      <td>gonorrhea</td>\n",
       "      <td>0</td>\n",
       "      <td>[]</td>\n",
       "    </tr>\n",
       "    <tr>\n",
       "      <th>2</th>\n",
       "      <td>cholera</td>\n",
       "      <td>0</td>\n",
       "      <td>[]</td>\n",
       "    </tr>\n",
       "    <tr>\n",
       "      <th>16</th>\n",
       "      <td>mpox</td>\n",
       "      <td>0</td>\n",
       "      <td>[]</td>\n",
       "    </tr>\n",
       "  </tbody>\n",
       "</table>\n",
       "</div>"
      ],
      "text/plain": [
       "                  Disease  Distinct Countries  \\\n",
       "0                 malaria                 183   \n",
       "11                    hiv                 183   \n",
       "15              hepatitis                 183   \n",
       "3               chlamydia                 183   \n",
       "5                syphilis                 183   \n",
       "6          trichomoniasis                 183   \n",
       "1            tuberculosis                 183   \n",
       "12                 herpes                 183   \n",
       "14                    hpv                   0   \n",
       "13   human papillomavirus                   0   \n",
       "8                   crabs                   0   \n",
       "10  mycoplasma genitalium                   0   \n",
       "9                 scabies                   0   \n",
       "7             public lice                   0   \n",
       "4               gonorrhea                   0   \n",
       "2                 cholera                   0   \n",
       "16                   mpox                   0   \n",
       "\n",
       "                                         Country List  \n",
       "0   [afg, ago, alb, are, arg, arm, atg, aus, aut, ...  \n",
       "11  [afg, ago, alb, are, arg, arm, atg, aus, aut, ...  \n",
       "15  [afg, ago, alb, are, arg, arm, atg, aus, aut, ...  \n",
       "3   [afg, ago, alb, are, arg, arm, atg, aus, aut, ...  \n",
       "5   [afg, ago, alb, are, arg, arm, atg, aus, aut, ...  \n",
       "6   [afg, ago, alb, are, arg, arm, atg, aus, aut, ...  \n",
       "1   [afg, ago, alb, are, arg, arm, atg, aus, aut, ...  \n",
       "12  [afg, ago, alb, are, arg, arm, atg, aus, aut, ...  \n",
       "14                                                 []  \n",
       "13                                                 []  \n",
       "8                                                  []  \n",
       "10                                                 []  \n",
       "9                                                  []  \n",
       "7                                                  []  \n",
       "4                                                  []  \n",
       "2                                                  []  \n",
       "16                                                 []  "
      ]
     },
     "metadata": {},
     "output_type": "display_data"
    }
   ],
   "source": [
    "# Function to count distinct countries for each disease\n",
    "def count_countries_per_disease(df, diseases):\n",
    "    counts = []\n",
    "    for disease in diseases:\n",
    "        mask = df['diseases'].str.contains(disease, case=False, na=False)\n",
    "        countries = df.loc[mask, 'country_code'].unique()\n",
    "        counts.append({\n",
    "            'Disease': disease,\n",
    "            'Distinct Countries': len(countries),\n",
    "            'Country List': list(countries)\n",
    "        })\n",
    "    return pd.DataFrame(counts).sort_values(by='Distinct Countries', ascending=False)\n",
    "\n",
    "# Apply function\n",
    "country_counts = count_countries_per_disease(df, target_diseases)\n",
    "\n",
    "# Display results\n",
    "print(\"✅ Distinct country counts per disease:\")\n",
    "display(country_counts)"
   ]
  },
  {
   "cell_type": "code",
   "execution_count": 20,
   "id": "39287075-c7ba-4481-890a-59cc114d81b7",
   "metadata": {},
   "outputs": [
    {
     "name": "stdout",
     "output_type": "stream",
     "text": [
      "✅ Filtered dataset now contains 2013 rows (from 24522 originally).\n",
      "✅ Diseases included: 11 unique causes.\n"
     ]
    },
    {
     "data": {
      "text/html": [
       "<div>\n",
       "<style scoped>\n",
       "    .dataframe tbody tr th:only-of-type {\n",
       "        vertical-align: middle;\n",
       "    }\n",
       "\n",
       "    .dataframe tbody tr th {\n",
       "        vertical-align: top;\n",
       "    }\n",
       "\n",
       "    .dataframe thead th {\n",
       "        text-align: right;\n",
       "    }\n",
       "</style>\n",
       "<table border=\"1\" class=\"dataframe\">\n",
       "  <thead>\n",
       "    <tr style=\"text-align: right;\">\n",
       "      <th></th>\n",
       "      <th>country_code</th>\n",
       "      <th>year</th>\n",
       "      <th>diseases</th>\n",
       "      <th>sex</th>\n",
       "      <th>death_rate</th>\n",
       "    </tr>\n",
       "  </thead>\n",
       "  <tbody>\n",
       "    <tr>\n",
       "      <th>0</th>\n",
       "      <td>afg</td>\n",
       "      <td>2021</td>\n",
       "      <td>syphilis</td>\n",
       "      <td>fmle</td>\n",
       "      <td>1.40</td>\n",
       "    </tr>\n",
       "    <tr>\n",
       "      <th>1</th>\n",
       "      <td>afg</td>\n",
       "      <td>2021</td>\n",
       "      <td>genital herpes</td>\n",
       "      <td>fmle</td>\n",
       "      <td>0.00</td>\n",
       "    </tr>\n",
       "    <tr>\n",
       "      <th>19</th>\n",
       "      <td>afg</td>\n",
       "      <td>2021</td>\n",
       "      <td>tuberculosis</td>\n",
       "      <td>fmle</td>\n",
       "      <td>33.05</td>\n",
       "    </tr>\n",
       "    <tr>\n",
       "      <th>20</th>\n",
       "      <td>afg</td>\n",
       "      <td>2021</td>\n",
       "      <td>hiv/aids</td>\n",
       "      <td>fmle</td>\n",
       "      <td>1.17</td>\n",
       "    </tr>\n",
       "    <tr>\n",
       "      <th>21</th>\n",
       "      <td>afg</td>\n",
       "      <td>2021</td>\n",
       "      <td>acute hepatitis b</td>\n",
       "      <td>fmle</td>\n",
       "      <td>3.50</td>\n",
       "    </tr>\n",
       "  </tbody>\n",
       "</table>\n",
       "</div>"
      ],
      "text/plain": [
       "   country_code  year           diseases   sex  death_rate\n",
       "0           afg  2021           syphilis  fmle        1.40\n",
       "1           afg  2021     genital herpes  fmle        0.00\n",
       "19          afg  2021       tuberculosis  fmle       33.05\n",
       "20          afg  2021           hiv/aids  fmle        1.17\n",
       "21          afg  2021  acute hepatitis b  fmle        3.50"
      ]
     },
     "metadata": {},
     "output_type": "display_data"
    }
   ],
   "source": [
    "# Filter to only rows that contain one of the target diseases\n",
    "mask = df['diseases'].apply(\n",
    "    lambda x: any(disease in x for disease in target_diseases)\n",
    ")\n",
    "\n",
    "# Keep only matching rows (drop all others)\n",
    "filtered_df = df[mask].copy()\n",
    "\n",
    "print(f\"✅ Filtered dataset now contains {len(filtered_df)} rows (from {len(df)} originally).\")\n",
    "print(f\"✅ Diseases included: {filtered_df['diseases'].nunique()} unique causes.\")\n",
    "\n",
    "# Optional: inspect what remains\n",
    "display(filtered_df.head())"
   ]
  },
  {
   "cell_type": "code",
   "execution_count": 21,
   "id": "ab67e3a3-1f5b-46ad-8670-88524b9d66f0",
   "metadata": {},
   "outputs": [
    {
     "name": "stdout",
     "output_type": "stream",
     "text": [
      "Number of rows left: 2013\n"
     ]
    }
   ],
   "source": [
    "print(\"Number of rows left:\", len(filtered_df))\n"
   ]
  },
  {
   "cell_type": "code",
   "execution_count": 22,
   "id": "5d12744e-926f-444f-bb3e-3b091f6de40b",
   "metadata": {},
   "outputs": [
    {
     "name": "stdout",
     "output_type": "stream",
     "text": [
      "✅ Filtered dataset now contains 2013 rows (from 24522 originally).\n",
      "✅ Diseases included: 11 unique causes.\n",
      "Filtered data saved to: C:\\Users\\USER\\Desktop\\WORK\\RenewedCare\\data\\processed\\WHO_TOP_CAUSES_OF_DEATH_FEMALE.csv\n",
      "Number of rows left: 2013\n"
     ]
    }
   ],
   "source": [
    "# Case-insensitive filtering for partial matches\n",
    "mask = df[\"diseases\"].str.lower().apply(\n",
    "    lambda x: any(disease in x for disease in target_diseases)\n",
    ")\n",
    "\n",
    "filtered_df = df[mask].copy()\n",
    "\n",
    "print(f\"✅ Filtered dataset now contains {len(filtered_df)} rows (from {len(df)} originally).\")\n",
    "print(f\"✅ Diseases included: {filtered_df['diseases'].nunique()} unique causes.\")\n",
    "\n",
    "# Define output file path\n",
    "output_path = NOTEBOOK_DIR.parent / \"processed\" / \"WHO_TOP_CAUSES_OF_DEATH_FEMALE.csv\"\n",
    "\n",
    "# Save to CSV\n",
    "filtered_df.to_csv(output_path, index=False)\n",
    "\n",
    "print(f\"Filtered data saved to: {output_path}\")\n",
    "print(f\"Number of rows left: {len(filtered_df)}\")"
   ]
  },
  {
   "cell_type": "code",
   "execution_count": 24,
   "id": "8c3a85f9-0362-4c26-94d3-70b3fe9932e0",
   "metadata": {},
   "outputs": [
    {
     "name": "stdout",
     "output_type": "stream",
     "text": [
      "country_code     object\n",
      "year              int64\n",
      "diseases         object\n",
      "sex              object\n",
      "death_rate      float64\n",
      "dtype: object\n"
     ]
    }
   ],
   "source": [
    "print(df.dtypes)\n"
   ]
  },
  {
   "cell_type": "code",
   "execution_count": null,
   "id": "5873df29-5c84-4dfa-b36f-f20d31de5539",
   "metadata": {},
   "outputs": [],
   "source": []
  }
 ],
 "metadata": {
  "kernelspec": {
   "display_name": "Python 3 (ipykernel)",
   "language": "python",
   "name": "python3"
  },
  "language_info": {
   "codemirror_mode": {
    "name": "ipython",
    "version": 3
   },
   "file_extension": ".py",
   "mimetype": "text/x-python",
   "name": "python",
   "nbconvert_exporter": "python",
   "pygments_lexer": "ipython3",
   "version": "3.12.4"
  }
 },
 "nbformat": 4,
 "nbformat_minor": 5
}
